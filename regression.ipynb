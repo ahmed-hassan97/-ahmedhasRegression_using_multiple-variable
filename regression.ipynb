{
  "nbformat": 4,
  "nbformat_minor": 0,
  "metadata": {
    "colab": {
      "name": "regression.ipynb",
      "provenance": [],
      "collapsed_sections": [],
      "authorship_tag": "ABX9TyM9G3QjPVoSkK7brHMoBhz8",
      "include_colab_link": true
    },
    "kernelspec": {
      "name": "python3",
      "display_name": "Python 3"
    }
  },
  "cells": [
    {
      "cell_type": "markdown",
      "metadata": {
        "id": "view-in-github",
        "colab_type": "text"
      },
      "source": [
        "<a href=\"https://colab.research.google.com/github/ahmedhassan97/-ahmedhasRegression_using_multiple-variable/blob/master/regression.ipynb\" target=\"_parent\"><img src=\"https://colab.research.google.com/assets/colab-badge.svg\" alt=\"Open In Colab\"/></a>"
      ]
    },
    {
      "cell_type": "code",
      "metadata": {
        "id": "fsuU3RcX2WtZ",
        "colab_type": "code",
        "colab": {}
      },
      "source": [
        "# include library in python \n",
        "\n",
        "import numpy as np\n",
        "import pandas as pd\n",
        "import matplotlib.pyplot as plt"
      ],
      "execution_count": 0,
      "outputs": []
    },
    {
      "cell_type": "code",
      "metadata": {
        "id": "eOhlFGNs6uTH",
        "colab_type": "code",
        "colab": {}
      },
      "source": [
        "#import data.csv for training \n",
        "\n",
        "\n",
        "path = 'data.csv'\n",
        "data = pd.read_csv(path, header=None, names=['size',\n",
        "'Bedrooms','price'])"
      ],
      "execution_count": 0,
      "outputs": []
    },
    {
      "cell_type": "code",
      "metadata": {
        "id": "j-3eB9QKDGqO",
        "colab_type": "code",
        "colab": {
          "base_uri": "https://localhost:8080/",
          "height": 759
        },
        "outputId": "6f321837-1b4e-47e7-b5fe-4e14523a9852"
      },
      "source": [
        "#show data details\n",
        "print('data = \\n' ,data.head(10))\n",
        "print('**************************************')\n",
        "print('data.describe = \\n',data.describe())\n",
        "print('**************************************')\n",
        "#draw data\n",
        "data.plot(kind='scatter', x='size', y='price', figsize=(5,5))\n"
      ],
      "execution_count": 14,
      "outputs": [
        {
          "output_type": "stream",
          "text": [
            "data = \n",
            "    size  Bedrooms   price\n",
            "0  2104         3  399900\n",
            "1  1600         3  329900\n",
            "2  2400         3  369000\n",
            "3  1416         2  232000\n",
            "4  3000         4  539900\n",
            "5  1985         4  299900\n",
            "6  1534         3  314900\n",
            "7  1427         3  198999\n",
            "8  1380         3  212000\n",
            "9  1494         3  242500\n",
            "**************************************\n",
            "data.describe = \n",
            "               size   Bedrooms          price\n",
            "count    47.000000  47.000000      47.000000\n",
            "mean   2000.680851   3.170213  340412.659574\n",
            "std     794.702354   0.760982  125039.899586\n",
            "min     852.000000   1.000000  169900.000000\n",
            "25%    1432.000000   3.000000  249900.000000\n",
            "50%    1888.000000   3.000000  299900.000000\n",
            "75%    2269.000000   4.000000  384450.000000\n",
            "max    4478.000000   5.000000  699900.000000\n",
            "**************************************\n"
          ],
          "name": "stdout"
        },
        {
          "output_type": "execute_result",
          "data": {
            "text/plain": [
              "<matplotlib.axes._subplots.AxesSubplot at 0x7f9e5bf88d30>"
            ]
          },
          "metadata": {
            "tags": []
          },
          "execution_count": 14
        },
        {
          "output_type": "display_data",
          "data": {
            "image/png": "[encoded data removed]",
            "text/plain": [
              "<Figure size 360x360 with 1 Axes>"
            ]
          },
          "metadata": {
            "tags": []
          }
        }
      ]
    },
    {
      "cell_type": "code",
      "metadata": {
        "id": "HopqEoSMGMxm",
        "colab_type": "code",
        "colab": {
          "base_uri": "https://localhost:8080/",
          "height": 255
        },
        "outputId": "89a21623-6682-48ca-b747-8484908e6d15"
      },
      "source": [
        "#rescalling data into range (-1,1)\n",
        "\n",
        "#this is facilite data processing\n",
        "\n",
        "data = (data - data.mean())/data.std()\n",
        "\n",
        "print(\"data after rescalling \\n\")\n",
        "\n",
        "print(\"data \\n\",data.head(10))"
      ],
      "execution_count": 16,
      "outputs": [
        {
          "output_type": "stream",
          "text": [
            "data after rescalling \n",
            "\n",
            "data \n",
            "        size  Bedrooms     price\n",
            "0  0.130010 -0.223675  0.475747\n",
            "1 -0.504190 -0.223675 -0.084074\n",
            "2  0.502476 -0.223675  0.228626\n",
            "3 -0.735723 -1.537767 -0.867025\n",
            "4  1.257476  1.090417  1.595389\n",
            "5 -0.019732  1.090417 -0.323998\n",
            "6 -0.587240 -0.223675 -0.204036\n",
            "7 -0.721881 -0.223675 -1.130948\n",
            "8 -0.781023 -0.223675 -1.026973\n",
            "9 -0.637573 -0.223675 -0.783051\n"
          ],
          "name": "stdout"
        }
      ]
    },
    {
      "cell_type": "code",
      "metadata": {
        "id": "rtZx8ExJHfeD",
        "colab_type": "code",
        "colab": {}
      },
      "source": [
        "# adding ones in column 0\n",
        "\n",
        "data.insert(0, 'Ones', 1)"
      ],
      "execution_count": 0,
      "outputs": []
    },
    {
      "cell_type": "code",
      "metadata": {
        "id": "sCZ2ol_gJg1Q",
        "colab_type": "code",
        "colab": {
          "base_uri": "https://localhost:8080/",
          "height": 425
        },
        "outputId": "888d703f-1c05-4949-a2d6-ac44029fd891"
      },
      "source": [
        "cols = data.shape[1]    ##this extract column    47 * 3   \n",
        "\n",
        "X = data.iloc[:,0:cols-1]\n",
        "y = data.iloc[:,cols-1:cols]\n",
        "\n",
        "print(\"x data is = \\n\",X.head(10))\n",
        "print(\"y data is = \\n\",y.head(10))"
      ],
      "execution_count": 23,
      "outputs": [
        {
          "output_type": "stream",
          "text": [
            "x data is = \n",
            "    Ones      size  Bedrooms\n",
            "0     1  0.130010 -0.223675\n",
            "1     1 -0.504190 -0.223675\n",
            "2     1  0.502476 -0.223675\n",
            "3     1 -0.735723 -1.537767\n",
            "4     1  1.257476  1.090417\n",
            "5     1 -0.019732  1.090417\n",
            "6     1 -0.587240 -0.223675\n",
            "7     1 -0.721881 -0.223675\n",
            "8     1 -0.781023 -0.223675\n",
            "9     1 -0.637573 -0.223675\n",
            "y data is = \n",
            "       price\n",
            "0  0.475747\n",
            "1 -0.084074\n",
            "2  0.228626\n",
            "3 -0.867025\n",
            "4  1.595389\n",
            "5 -0.323998\n",
            "6 -0.204036\n",
            "7 -1.130948\n",
            "8 -1.026973\n",
            "9 -0.783051\n"
          ],
          "name": "stdout"
        }
      ]
    },
    {
      "cell_type": "code",
      "metadata": {
        "id": "xSf8VRrBKWcz",
        "colab_type": "code",
        "colab": {
          "base_uri": "https://localhost:8080/",
          "height": 68
        },
        "outputId": "79cbd7fa-c4ec-41a1-c0b8-4b88369c8185"
      },
      "source": [
        "# convert data into matrix\n",
        "\n",
        "X = np.matrix(X)\n",
        "\n",
        "y = np.matrix(y)\n",
        "theta = np.matrix(np.array([0,0,0]))\n",
        "print(\" x shape is = \",X.shape)\n",
        "print(\" y shape is = \",y.shape)\n",
        "print(\" theta shape is = \",theta.shape)"
      ],
      "execution_count": 51,
      "outputs": [
        {
          "output_type": "stream",
          "text": [
            " x shape is =  (47, 3)\n",
            " y shape is =  (47, 1)\n",
            " theta shape is =  (1, 3)\n"
          ],
          "name": "stdout"
        }
      ]
    },
    {
      "cell_type": "code",
      "metadata": {
        "id": "uSNjgajwUJDb",
        "colab_type": "code",
        "colab": {}
      },
      "source": [
        "#function to compue cost \n",
        "def computeCost(X, y, theta):\n",
        "  \n",
        "  z = np.power(((X * theta.T) - y), 2)\n",
        "\n",
        "  return np.sum(z) / (2 * len(X))"
      ],
      "execution_count": 0,
      "outputs": []
    },
    {
      "cell_type": "code",
      "metadata": {
        "id": "r5sWe41rMrCc",
        "colab_type": "code",
        "colab": {}
      },
      "source": [
        "#define function to gradient discent \n",
        "\n",
        "def gradientDescent(X, y, theta, alpha, iters):\n",
        "\n",
        "  temp = np.matrix(np.zeros(theta.shape))\n",
        "  parameters = int(theta.ravel().shape[1])\n",
        "  cost = np.zeros(iters)\n",
        "  for i in range(iters):\n",
        "\n",
        "    error = (X * theta.T) - y\n",
        "\n",
        "    for j in range(parameters):\n",
        "      \n",
        "      term = np.multiply(error, X[:,j])\n",
        "      temp[0,j] = theta[0,j] - ((alpha / len(X)) * np.sum(term))\n",
        "    theta = temp\n",
        "    cost[i] = computeCost(X, y, theta)\n",
        "  return theta, cost\n",
        "\n"
      ],
      "execution_count": 0,
      "outputs": []
    },
    {
      "cell_type": "code",
      "metadata": {
        "id": "L3sY-T58XEF2",
        "colab_type": "code",
        "colab": {
          "base_uri": "https://localhost:8080/",
          "height": 1000
        },
        "outputId": "5b4588ba-5eee-4e73-b54c-2b6c76ec4364"
      },
      "source": [
        "# initialize variables for learning rate and iterations\n",
        "alpha = 0.2\n",
        "iters = 100000\n",
        "# perform linear regression on the data set\n",
        "theta_final,cost2= gradientDescent(X, y, theta, alpha, iters)\n",
        "# get the cost (error) of the model\n",
        "thiscost = computeCost(X, y, theta_final)\n",
        "print('theta_final = ' , theta_final)\n",
        "print('cost2 = ' , cost2[0:50] )\n",
        "print('computeCost = ' , thiscost)\n"
      ],
      "execution_count": 72,
      "outputs": [
        {
          "output_type": "stream",
          "text": [
            "[[ 1.00000000e+00  1.30009869e-01 -2.23675187e-01]\n",
            " [ 1.00000000e+00 -5.04189838e-01 -2.23675187e-01]\n",
            " [ 1.00000000e+00  5.02476364e-01 -2.23675187e-01]\n",
            " [ 1.00000000e+00 -7.35723065e-01 -1.53776691e+00]\n",
            " [ 1.00000000e+00  1.25747602e+00  1.09041654e+00]\n",
            " [ 1.00000000e+00 -1.97317285e-02  1.09041654e+00]\n",
            " [ 1.00000000e+00 -5.87239800e-01 -2.23675187e-01]\n",
            " [ 1.00000000e+00 -7.21881404e-01 -2.23675187e-01]\n",
            " [ 1.00000000e+00 -7.81023044e-01 -2.23675187e-01]\n",
            " [ 1.00000000e+00 -6.37573110e-01 -2.23675187e-01]\n",
            " [ 1.00000000e+00 -7.63567023e-02  1.09041654e+00]\n",
            " [ 1.00000000e+00 -8.56737193e-04 -2.23675187e-01]\n",
            " [ 1.00000000e+00 -1.39273340e-01 -2.23675187e-01]\n",
            " [ 1.00000000e+00  3.11729182e+00  2.40450826e+00]\n",
            " [ 1.00000000e+00 -9.21956312e-01 -2.23675187e-01]\n",
            " [ 1.00000000e+00  3.76643089e-01  1.09041654e+00]\n",
            " [ 1.00000000e+00 -8.56523009e-01 -1.53776691e+00]\n",
            " [ 1.00000000e+00 -9.62222960e-01 -2.23675187e-01]\n",
            " [ 1.00000000e+00  7.65467909e-01  1.09041654e+00]\n",
            " [ 1.00000000e+00  1.29648433e+00  1.09041654e+00]\n",
            " [ 1.00000000e+00 -2.94048269e-01 -2.23675187e-01]\n",
            " [ 1.00000000e+00 -1.41790005e-01 -1.53776691e+00]\n",
            " [ 1.00000000e+00 -4.99156507e-01 -2.23675187e-01]\n",
            " [ 1.00000000e+00 -4.86733818e-02  1.09041654e+00]\n",
            " [ 1.00000000e+00  2.37739217e+00 -2.23675187e-01]\n",
            " [ 1.00000000e+00 -1.13335621e+00 -2.23675187e-01]\n",
            " [ 1.00000000e+00 -6.82873089e-01 -2.23675187e-01]\n",
            " [ 1.00000000e+00  6.61026291e-01 -2.23675187e-01]\n",
            " [ 1.00000000e+00  2.50809813e-01 -2.23675187e-01]\n",
            " [ 1.00000000e+00  8.00701226e-01 -2.23675187e-01]\n",
            " [ 1.00000000e+00 -2.03448310e-01 -1.53776691e+00]\n",
            " [ 1.00000000e+00 -1.25918949e+00 -2.85185864e+00]\n",
            " [ 1.00000000e+00  4.94765729e-02  1.09041654e+00]\n",
            " [ 1.00000000e+00  1.42986760e+00 -2.23675187e-01]\n",
            " [ 1.00000000e+00 -2.38681627e-01  1.09041654e+00]\n",
            " [ 1.00000000e+00 -7.09298077e-01 -2.23675187e-01]\n",
            " [ 1.00000000e+00 -9.58447962e-01 -2.23675187e-01]\n",
            " [ 1.00000000e+00  1.65243186e-01  1.09041654e+00]\n",
            " [ 1.00000000e+00  2.78635031e+00  1.09041654e+00]\n",
            " [ 1.00000000e+00  2.02993169e-01  1.09041654e+00]\n",
            " [ 1.00000000e+00 -4.23656542e-01 -1.53776691e+00]\n",
            " [ 1.00000000e+00  2.98626458e-01 -2.23675187e-01]\n",
            " [ 1.00000000e+00  7.12617934e-01  1.09041654e+00]\n",
            " [ 1.00000000e+00 -1.00752294e+00 -2.23675187e-01]\n",
            " [ 1.00000000e+00 -1.44542274e+00 -1.53776691e+00]\n",
            " [ 1.00000000e+00 -1.87089985e-01  1.09041654e+00]\n",
            " [ 1.00000000e+00 -1.00374794e+00 -2.23675187e-01]]\n",
            "theta_final =  [[-5.90544162e-17  8.84765988e-01 -5.31788197e-02]]\n",
            "cost2 =  [0.33715847 0.25820969 0.21551613 0.19107488 0.176074   0.1661571\n",
            " 0.15913493 0.15387832 0.14978161 0.1465018  0.14383096 0.14163337\n",
            " 0.13981396 0.13830215 0.13704326 0.13599368 0.13511799 0.13438707\n",
            " 0.13377685 0.13326731 0.13284182 0.13248649 0.13218975 0.13194194\n",
            " 0.13173497 0.13156213 0.13141778 0.13129722 0.13119654 0.13111246\n",
            " 0.13104224 0.13098359 0.13093461 0.13089371 0.13085955 0.13083102\n",
            " 0.13080719 0.13078729 0.13077067 0.13075679 0.1307452  0.13073552\n",
            " 0.13072744 0.13072069 0.13071505 0.13071034 0.13070641 0.13070312\n",
            " 0.13070038 0.13069809]\n",
            "computeCost =  0.13068648053904203\n"
          ],
          "name": "stdout"
        }
      ]
    }
  ]
}