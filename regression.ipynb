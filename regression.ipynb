{
  "nbformat": 4,
  "nbformat_minor": 0,
  "metadata": {
    "colab": {
      "name": "regression.ipynb",
      "provenance": [],
      "collapsed_sections": [],
      "authorship_tag": "ABX9TyP/g/snVUc8Th39Ncb+FXit",
      "include_colab_link": true
    },
    "kernelspec": {
      "name": "python3",
      "display_name": "Python 3"
    }
  },
  "cells": [
    {
      "cell_type": "markdown",
      "metadata": {
        "id": "view-in-github",
        "colab_type": "text"
      },
      "source": [
        "<a href=\"https://colab.research.google.com/github/ahmedhassan97/-ahmedhasRegression_using_multiple-variable/blob/master/regression.ipynb\" target=\"_parent\"><img src=\"https://colab.research.google.com/assets/colab-badge.svg\" alt=\"Open In Colab\"/></a>"
      ]
    },
    {
      "cell_type": "code",
      "metadata": {
        "id": "fsuU3RcX2WtZ",
        "colab_type": "code",
        "colab": {}
      },
      "source": [
        "# include library in python \n",
        "\n",
        "import numpy as np\n",
        "import pandas as pd\n",
        "import matplotlib.pyplot as plt"
      ],
      "execution_count": 0,
      "outputs": []
    },
    {
      "cell_type": "code",
      "metadata": {
        "id": "eOhlFGNs6uTH",
        "colab_type": "code",
        "colab": {}
      },
      "source": [
        "#import data.csv for training \n",
        "\n",
        "\n",
        "path = 'data.csv'\n",
        "data = pd.read_csv(path, header=None, names=['size',\n",
        "'Bedrooms','price'])"
      ],
      "execution_count": 0,
      "outputs": []
    },
    {
      "cell_type": "code",
      "metadata": {
        "id": "j-3eB9QKDGqO",
        "colab_type": "code",
        "colab": {
          "base_uri": "https://localhost:8080/",
          "height": 759
        },
        "outputId": "6f321837-1b4e-47e7-b5fe-4e14523a9852"
      },
      "source": [
        "#show data details\n",
        "print('data = \\n' ,data.head(10))\n",
        "print('**************************************')\n",
        "print('data.describe = \\n',data.describe())\n",
        "print('**************************************')\n",
        "#draw data\n",
        "data.plot(kind='scatter', x='size', y='price', figsize=(5,5))\n"
      ],
      "execution_count": 14,
      "outputs": [
        {
          "output_type": "stream",
          "text": [
            "data = \n",
            "    size  Bedrooms   price\n",
            "0  2104         3  399900\n",
            "1  1600         3  329900\n",
            "2  2400         3  369000\n",
            "3  1416         2  232000\n",
            "4  3000         4  539900\n",
            "5  1985         4  299900\n",
            "6  1534         3  314900\n",
            "7  1427         3  198999\n",
            "8  1380         3  212000\n",
            "9  1494         3  242500\n",
            "**************************************\n",
            "data.describe = \n",
            "               size   Bedrooms          price\n",
            "count    47.000000  47.000000      47.000000\n",
            "mean   2000.680851   3.170213  340412.659574\n",
            "std     794.702354   0.760982  125039.899586\n",
            "min     852.000000   1.000000  169900.000000\n",
            "25%    1432.000000   3.000000  249900.000000\n",
            "50%    1888.000000   3.000000  299900.000000\n",
            "75%    2269.000000   4.000000  384450.000000\n",
            "max    4478.000000   5.000000  699900.000000\n",
            "**************************************\n"
          ],
          "name": "stdout"
        },
        {
          "output_type": "execute_result",
          "data": {
            "text/plain": [
              "<matplotlib.axes._subplots.AxesSubplot at 0x7f9e5bf88d30>"
            ]
          },
          "metadata": {
            "tags": []
          },
          "execution_count": 14
        },
        {
          "output_type": "display_data",
          "data": {
            "image/png": "[encoded data removed]",
            "text/plain": [
              "<Figure size 360x360 with 1 Axes>"
            ]
          },
          "metadata": {
            "tags": []
          }
        }
      ]
    },
    {
      "cell_type": "code",
      "metadata": {
        "id": "HopqEoSMGMxm",
        "colab_type": "code",
        "colab": {
          "base_uri": "https://localhost:8080/",
          "height": 255
        },
        "outputId": "89a21623-6682-48ca-b747-8484908e6d15"
      },
      "source": [
        "#rescalling data into range (-1,1)\n",
        "\n",
        "#this is facilite data processing\n",
        "\n",
        "data = (data - data.mean())/data.std()\n",
        "\n",
        "print(\"data after rescalling \\n\")\n",
        "\n",
        "print(\"data \\n\",data.head(10))"
      ],
      "execution_count": 16,
      "outputs": [
        {
          "output_type": "stream",
          "text": [
            "data after rescalling \n",
            "\n",
            "data \n",
            "        size  Bedrooms     price\n",
            "0  0.130010 -0.223675  0.475747\n",
            "1 -0.504190 -0.223675 -0.084074\n",
            "2  0.502476 -0.223675  0.228626\n",
            "3 -0.735723 -1.537767 -0.867025\n",
            "4  1.257476  1.090417  1.595389\n",
            "5 -0.019732  1.090417 -0.323998\n",
            "6 -0.587240 -0.223675 -0.204036\n",
            "7 -0.721881 -0.223675 -1.130948\n",
            "8 -0.781023 -0.223675 -1.026973\n",
            "9 -0.637573 -0.223675 -0.783051\n"
          ],
          "name": "stdout"
        }
      ]
    }
  ]
}