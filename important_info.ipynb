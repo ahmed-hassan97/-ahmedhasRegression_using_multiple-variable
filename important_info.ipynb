{
  "nbformat": 4,
  "nbformat_minor": 0,
  "metadata": {
    "colab": {
      "name": "important_info.ipynb",
      "provenance": [],
      "authorship_tag": "ABX9TyPyAm7bzQbvhPwv4/gsUZ93",
      "include_colab_link": true
    },
    "kernelspec": {
      "name": "python3",
      "display_name": "Python 3"
    }
  },
  "cells": [
    {
      "cell_type": "markdown",
      "metadata": {
        "id": "view-in-github",
        "colab_type": "text"
      },
      "source": [
        "<a href=\"https://colab.research.google.com/github/ahmedhassan97/-ahmedhasRegression_using_multiple-variable/blob/master/important_info.ipynb\" target=\"_parent\"><img src=\"https://colab.research.google.com/assets/colab-badge.svg\" alt=\"Open In Colab\"/></a>"
      ]
    },
    {
      "cell_type": "markdown",
      "metadata": {
        "id": "f1FVp2W5kuXy",
        "colab_type": "text"
      },
      "source": [
        " # ** important information in machine learning and deep learning**"
      ]
    },
    {
      "cell_type": "markdown",
      "metadata": {
        "id": "zyJpCmt4k35W",
        "colab_type": "text"
      },
      "source": [
        "# * Lipraries to process data in keras *"
      ]
    },
    {
      "cell_type": "code",
      "metadata": {
        "id": "PYfIgutHlNzo",
        "colab_type": "code",
        "colab": {}
      },
      "source": [
        "from keras.preprocessing.image import load_img\n",
        "from keras.preprocessing.image import img_to_aray"
      ],
      "execution_count": 0,
      "outputs": []
    },
    {
      "cell_type": "markdown",
      "metadata": {
        "id": "3Luj854BlSR_",
        "colab_type": "text"
      },
      "source": [
        "# to load image from filename this image apperar two dim(width,height)"
      ]
    },
    {
      "cell_type": "code",
      "metadata": {
        "id": "x9GCcNhslVs-",
        "colab_type": "code",
        "colab": {}
      },
      "source": [
        "filename = 'cat.jpeg'\n",
        "\n",
        "# load an image in PIL format\n",
        "original = load_img(filename, target_size=(224, 224))\n",
        "\n",
        "# output  : PIL image size (224, 224)\n",
        "\n",
        "# pll format is width and height\n"
      ],
      "execution_count": 0,
      "outputs": []
    },
    {
      "cell_type": "markdown",
      "metadata": {
        "id": "HZyOmBN0lfeG",
        "colab_type": "text"
      },
      "source": [
        "# to convert image into three dimension (width,height,channel) using numpy liprary"
      ]
    },
    {
      "cell_type": "code",
      "metadata": {
        "id": "hUdKBpsblkGm",
        "colab_type": "code",
        "colab": {}
      },
      "source": [
        "numpy_image = img_to_array(original)\n",
        "# output : numpy array size (224, 224, 3)\n"
      ],
      "execution_count": 0,
      "outputs": []
    },
    {
      "cell_type": "markdown",
      "metadata": {
        "id": "kK9Aqfr2loym",
        "colab_type": "text"
      },
      "source": [
        "# to convert dim into four dimension using numpy"
      ]
    },
    {
      "cell_type": "code",
      "metadata": {
        "id": "5goOaMRKlsS0",
        "colab_type": "code",
        "colab": {}
      },
      "source": [
        "image_batch = np.expand_dims(numpy_image, axis=0)\n",
        "# output : image batch size (1, 224, 224, 3)\n",
        "\n",
        "#   if we change axis to 1\n",
        "\n",
        "# output : image batch size (224, 1, 224, 3)\n"
      ],
      "execution_count": 0,
      "outputs": []
    },
    {
      "cell_type": "markdown",
      "metadata": {
        "id": "MDHUPh3jl152",
        "colab_type": "text"
      },
      "source": [
        "# to appear image "
      ]
    },
    {
      "cell_type": "code",
      "metadata": {
        "id": "tb6zytZEl48p",
        "colab_type": "code",
        "colab": {}
      },
      "source": [
        "plt.imshow(np.uint16(image_batch[0]))"
      ],
      "execution_count": 0,
      "outputs": []
    },
    {
      "cell_type": "markdown",
      "metadata": {
        "id": "Tp6eJ_Cal7iz",
        "colab_type": "text"
      },
      "source": [
        "# to save weights into file"
      ]
    },
    {
      "cell_type": "code",
      "metadata": {
        "id": "ehOrVCGVl-9w",
        "colab_type": "code",
        "colab": {}
      },
      "source": [
        "from pickle import dump\n",
        "\n",
        "dump(model, open('name.pkl', 'wb'))\n"
      ],
      "execution_count": 0,
      "outputs": []
    }
  ]
}